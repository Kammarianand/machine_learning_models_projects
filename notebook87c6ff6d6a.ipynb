{
 "cells": [
  {
   "cell_type": "code",
   "execution_count": 1,
   "id": "6f866bae",
   "metadata": {
    "_cell_guid": "b1076dfc-b9ad-4769-8c92-a6c4dae69d19",
    "_uuid": "8f2839f25d086af736a60e9eeb907d3b93b6e0e5",
    "execution": {
     "iopub.execute_input": "2024-04-07T04:41:03.519863Z",
     "iopub.status.busy": "2024-04-07T04:41:03.518932Z",
     "iopub.status.idle": "2024-04-07T04:41:04.349427Z",
     "shell.execute_reply": "2024-04-07T04:41:04.348351Z"
    },
    "papermill": {
     "duration": 0.842627,
     "end_time": "2024-04-07T04:41:04.352291",
     "exception": false,
     "start_time": "2024-04-07T04:41:03.509664",
     "status": "completed"
    },
    "tags": []
   },
   "outputs": [
    {
     "name": "stdout",
     "output_type": "stream",
     "text": [
      "/kaggle/input/digit-recognizer/sample_submission.csv\n",
      "/kaggle/input/digit-recognizer/train.csv\n",
      "/kaggle/input/digit-recognizer/test.csv\n"
     ]
    }
   ],
   "source": [
    "# This Python 3 environment comes with many helpful analytics libraries installed\n",
    "# It is defined by the kaggle/python Docker image: https://github.com/kaggle/docker-python\n",
    "# For example, here's several helpful packages to load\n",
    "\n",
    "import numpy as np # linear algebra\n",
    "import pandas as pd # data processing, CSV file I/O (e.g. pd.read_csv)\n",
    "import matplotlib.pyplot as plt\n",
    "from warnings import filterwarnings\n",
    "filterwarnings('ignore')\n",
    "# Input data files are available in the read-only \"../input/\" directory\n",
    "# For example, running this (by clicking run or pressing Shift+Enter) will list all files under the input directory\n",
    "\n",
    "import os\n",
    "for dirname, _, filenames in os.walk('/kaggle/input'):\n",
    "    for filename in filenames:\n",
    "        print(os.path.join(dirname, filename))\n",
    "\n",
    "# You can write up to 20GB to the current directory (/kaggle/working/) that gets preserved as output when you create a version using \"Save & Run All\" \n",
    "# You can also write temporary files to /kaggle/temp/, but they won't be saved outside of the current session"
   ]
  },
  {
   "cell_type": "markdown",
   "id": "f449ed0b",
   "metadata": {
    "papermill": {
     "duration": 0.004586,
     "end_time": "2024-04-07T04:41:04.362080",
     "exception": false,
     "start_time": "2024-04-07T04:41:04.357494",
     "status": "completed"
    },
    "tags": []
   },
   "source": [
    "> Loading datasets"
   ]
  },
  {
   "cell_type": "code",
   "execution_count": 2,
   "id": "74d80906",
   "metadata": {
    "execution": {
     "iopub.execute_input": "2024-04-07T04:41:04.372250Z",
     "iopub.status.busy": "2024-04-07T04:41:04.371809Z",
     "iopub.status.idle": "2024-04-07T04:41:09.474387Z",
     "shell.execute_reply": "2024-04-07T04:41:09.473340Z"
    },
    "papermill": {
     "duration": 5.110725,
     "end_time": "2024-04-07T04:41:09.477160",
     "exception": false,
     "start_time": "2024-04-07T04:41:04.366435",
     "status": "completed"
    },
    "tags": []
   },
   "outputs": [],
   "source": [
    "train_data = pd.read_csv(\"/kaggle/input/digit-recognizer/train.csv\")\n",
    "test_data = pd.read_csv(\"/kaggle/input/digit-recognizer/test.csv\")"
   ]
  },
  {
   "cell_type": "code",
   "execution_count": 3,
   "id": "a881d6df",
   "metadata": {
    "execution": {
     "iopub.execute_input": "2024-04-07T04:41:09.489859Z",
     "iopub.status.busy": "2024-04-07T04:41:09.487730Z",
     "iopub.status.idle": "2024-04-07T04:41:09.512338Z",
     "shell.execute_reply": "2024-04-07T04:41:09.511393Z"
    },
    "papermill": {
     "duration": 0.033265,
     "end_time": "2024-04-07T04:41:09.515364",
     "exception": false,
     "start_time": "2024-04-07T04:41:09.482099",
     "status": "completed"
    },
    "tags": []
   },
   "outputs": [
    {
     "data": {
      "text/html": [
       "<div>\n",
       "<style scoped>\n",
       "    .dataframe tbody tr th:only-of-type {\n",
       "        vertical-align: middle;\n",
       "    }\n",
       "\n",
       "    .dataframe tbody tr th {\n",
       "        vertical-align: top;\n",
       "    }\n",
       "\n",
       "    .dataframe thead th {\n",
       "        text-align: right;\n",
       "    }\n",
       "</style>\n",
       "<table border=\"1\" class=\"dataframe\">\n",
       "  <thead>\n",
       "    <tr style=\"text-align: right;\">\n",
       "      <th></th>\n",
       "      <th>label</th>\n",
       "      <th>pixel0</th>\n",
       "      <th>pixel1</th>\n",
       "      <th>pixel2</th>\n",
       "      <th>pixel3</th>\n",
       "      <th>pixel4</th>\n",
       "      <th>pixel5</th>\n",
       "      <th>pixel6</th>\n",
       "      <th>pixel7</th>\n",
       "      <th>pixel8</th>\n",
       "      <th>...</th>\n",
       "      <th>pixel774</th>\n",
       "      <th>pixel775</th>\n",
       "      <th>pixel776</th>\n",
       "      <th>pixel777</th>\n",
       "      <th>pixel778</th>\n",
       "      <th>pixel779</th>\n",
       "      <th>pixel780</th>\n",
       "      <th>pixel781</th>\n",
       "      <th>pixel782</th>\n",
       "      <th>pixel783</th>\n",
       "    </tr>\n",
       "  </thead>\n",
       "  <tbody>\n",
       "    <tr>\n",
       "      <th>0</th>\n",
       "      <td>1</td>\n",
       "      <td>0</td>\n",
       "      <td>0</td>\n",
       "      <td>0</td>\n",
       "      <td>0</td>\n",
       "      <td>0</td>\n",
       "      <td>0</td>\n",
       "      <td>0</td>\n",
       "      <td>0</td>\n",
       "      <td>0</td>\n",
       "      <td>...</td>\n",
       "      <td>0</td>\n",
       "      <td>0</td>\n",
       "      <td>0</td>\n",
       "      <td>0</td>\n",
       "      <td>0</td>\n",
       "      <td>0</td>\n",
       "      <td>0</td>\n",
       "      <td>0</td>\n",
       "      <td>0</td>\n",
       "      <td>0</td>\n",
       "    </tr>\n",
       "    <tr>\n",
       "      <th>1</th>\n",
       "      <td>0</td>\n",
       "      <td>0</td>\n",
       "      <td>0</td>\n",
       "      <td>0</td>\n",
       "      <td>0</td>\n",
       "      <td>0</td>\n",
       "      <td>0</td>\n",
       "      <td>0</td>\n",
       "      <td>0</td>\n",
       "      <td>0</td>\n",
       "      <td>...</td>\n",
       "      <td>0</td>\n",
       "      <td>0</td>\n",
       "      <td>0</td>\n",
       "      <td>0</td>\n",
       "      <td>0</td>\n",
       "      <td>0</td>\n",
       "      <td>0</td>\n",
       "      <td>0</td>\n",
       "      <td>0</td>\n",
       "      <td>0</td>\n",
       "    </tr>\n",
       "    <tr>\n",
       "      <th>2</th>\n",
       "      <td>1</td>\n",
       "      <td>0</td>\n",
       "      <td>0</td>\n",
       "      <td>0</td>\n",
       "      <td>0</td>\n",
       "      <td>0</td>\n",
       "      <td>0</td>\n",
       "      <td>0</td>\n",
       "      <td>0</td>\n",
       "      <td>0</td>\n",
       "      <td>...</td>\n",
       "      <td>0</td>\n",
       "      <td>0</td>\n",
       "      <td>0</td>\n",
       "      <td>0</td>\n",
       "      <td>0</td>\n",
       "      <td>0</td>\n",
       "      <td>0</td>\n",
       "      <td>0</td>\n",
       "      <td>0</td>\n",
       "      <td>0</td>\n",
       "    </tr>\n",
       "    <tr>\n",
       "      <th>3</th>\n",
       "      <td>4</td>\n",
       "      <td>0</td>\n",
       "      <td>0</td>\n",
       "      <td>0</td>\n",
       "      <td>0</td>\n",
       "      <td>0</td>\n",
       "      <td>0</td>\n",
       "      <td>0</td>\n",
       "      <td>0</td>\n",
       "      <td>0</td>\n",
       "      <td>...</td>\n",
       "      <td>0</td>\n",
       "      <td>0</td>\n",
       "      <td>0</td>\n",
       "      <td>0</td>\n",
       "      <td>0</td>\n",
       "      <td>0</td>\n",
       "      <td>0</td>\n",
       "      <td>0</td>\n",
       "      <td>0</td>\n",
       "      <td>0</td>\n",
       "    </tr>\n",
       "    <tr>\n",
       "      <th>4</th>\n",
       "      <td>0</td>\n",
       "      <td>0</td>\n",
       "      <td>0</td>\n",
       "      <td>0</td>\n",
       "      <td>0</td>\n",
       "      <td>0</td>\n",
       "      <td>0</td>\n",
       "      <td>0</td>\n",
       "      <td>0</td>\n",
       "      <td>0</td>\n",
       "      <td>...</td>\n",
       "      <td>0</td>\n",
       "      <td>0</td>\n",
       "      <td>0</td>\n",
       "      <td>0</td>\n",
       "      <td>0</td>\n",
       "      <td>0</td>\n",
       "      <td>0</td>\n",
       "      <td>0</td>\n",
       "      <td>0</td>\n",
       "      <td>0</td>\n",
       "    </tr>\n",
       "  </tbody>\n",
       "</table>\n",
       "<p>5 rows × 785 columns</p>\n",
       "</div>"
      ],
      "text/plain": [
       "   label  pixel0  pixel1  pixel2  pixel3  pixel4  pixel5  pixel6  pixel7  \\\n",
       "0      1       0       0       0       0       0       0       0       0   \n",
       "1      0       0       0       0       0       0       0       0       0   \n",
       "2      1       0       0       0       0       0       0       0       0   \n",
       "3      4       0       0       0       0       0       0       0       0   \n",
       "4      0       0       0       0       0       0       0       0       0   \n",
       "\n",
       "   pixel8  ...  pixel774  pixel775  pixel776  pixel777  pixel778  pixel779  \\\n",
       "0       0  ...         0         0         0         0         0         0   \n",
       "1       0  ...         0         0         0         0         0         0   \n",
       "2       0  ...         0         0         0         0         0         0   \n",
       "3       0  ...         0         0         0         0         0         0   \n",
       "4       0  ...         0         0         0         0         0         0   \n",
       "\n",
       "   pixel780  pixel781  pixel782  pixel783  \n",
       "0         0         0         0         0  \n",
       "1         0         0         0         0  \n",
       "2         0         0         0         0  \n",
       "3         0         0         0         0  \n",
       "4         0         0         0         0  \n",
       "\n",
       "[5 rows x 785 columns]"
      ]
     },
     "execution_count": 3,
     "metadata": {},
     "output_type": "execute_result"
    }
   ],
   "source": [
    "train_data.head()"
   ]
  },
  {
   "cell_type": "markdown",
   "id": "ec482f31",
   "metadata": {
    "papermill": {
     "duration": 0.005359,
     "end_time": "2024-04-07T04:41:09.525867",
     "exception": false,
     "start_time": "2024-04-07T04:41:09.520508",
     "status": "completed"
    },
    "tags": []
   },
   "source": [
    "> Displaying imgs based on px values"
   ]
  },
  {
   "cell_type": "code",
   "execution_count": 4,
   "id": "556fe5b5",
   "metadata": {
    "execution": {
     "iopub.execute_input": "2024-04-07T04:41:09.539934Z",
     "iopub.status.busy": "2024-04-07T04:41:09.539403Z",
     "iopub.status.idle": "2024-04-07T04:41:09.783457Z",
     "shell.execute_reply": "2024-04-07T04:41:09.782488Z"
    },
    "papermill": {
     "duration": 0.255269,
     "end_time": "2024-04-07T04:41:09.786037",
     "exception": false,
     "start_time": "2024-04-07T04:41:09.530768",
     "status": "completed"
    },
    "tags": []
   },
   "outputs": [
    {
     "data": {
      "image/png": "[encoded data removed]",
      "text/plain": [
       "<Figure size 640x480 with 1 Axes>"
      ]
     },
     "metadata": {},
     "output_type": "display_data"
    }
   ],
   "source": [
    "num = np.array(train_data.iloc[3,1:]).reshape(28,28)\n",
    "plt.imshow(num)\n",
    "plt.show()"
   ]
  },
  {
   "cell_type": "markdown",
   "id": "900bf8f6",
   "metadata": {
    "papermill": {
     "duration": 0.004886,
     "end_time": "2024-04-07T04:41:09.796084",
     "exception": false,
     "start_time": "2024-04-07T04:41:09.791198",
     "status": "completed"
    },
    "tags": []
   },
   "source": [
    "> data preprocessing"
   ]
  },
  {
   "cell_type": "code",
   "execution_count": 5,
   "id": "91b1bb9b",
   "metadata": {
    "execution": {
     "iopub.execute_input": "2024-04-07T04:41:09.808035Z",
     "iopub.status.busy": "2024-04-07T04:41:09.807329Z",
     "iopub.status.idle": "2024-04-07T04:41:09.841441Z",
     "shell.execute_reply": "2024-04-07T04:41:09.840334Z"
    },
    "papermill": {
     "duration": 0.04246,
     "end_time": "2024-04-07T04:41:09.843606",
     "exception": false,
     "start_time": "2024-04-07T04:41:09.801146",
     "status": "completed"
    },
    "tags": []
   },
   "outputs": [
    {
     "data": {
      "text/plain": [
       "label       0\n",
       "pixel0      0\n",
       "pixel1      0\n",
       "pixel2      0\n",
       "pixel3      0\n",
       "           ..\n",
       "pixel779    0\n",
       "pixel780    0\n",
       "pixel781    0\n",
       "pixel782    0\n",
       "pixel783    0\n",
       "Length: 785, dtype: int64"
      ]
     },
     "execution_count": 5,
     "metadata": {},
     "output_type": "execute_result"
    }
   ],
   "source": [
    "train_data.isnull().sum()"
   ]
  },
  {
   "cell_type": "code",
   "execution_count": 6,
   "id": "3ab9733c",
   "metadata": {
    "execution": {
     "iopub.execute_input": "2024-04-07T04:41:09.855415Z",
     "iopub.status.busy": "2024-04-07T04:41:09.855055Z",
     "iopub.status.idle": "2024-04-07T04:41:10.074088Z",
     "shell.execute_reply": "2024-04-07T04:41:10.072975Z"
    },
    "papermill": {
     "duration": 0.227906,
     "end_time": "2024-04-07T04:41:10.076628",
     "exception": false,
     "start_time": "2024-04-07T04:41:09.848722",
     "status": "completed"
    },
    "tags": []
   },
   "outputs": [],
   "source": [
    "x = np.array(train_data)\n",
    "y = np.array(test_data)\n",
    "\n",
    "X_train = x[:,1:]\n",
    "Y_train = x[:,0]\n",
    "X_test =  y"
   ]
  },
  {
   "cell_type": "code",
   "execution_count": 7,
   "id": "ed7b0bfb",
   "metadata": {
    "execution": {
     "iopub.execute_input": "2024-04-07T04:41:10.088480Z",
     "iopub.status.busy": "2024-04-07T04:41:10.088087Z",
     "iopub.status.idle": "2024-04-07T04:41:22.421899Z",
     "shell.execute_reply": "2024-04-07T04:41:22.420968Z"
    },
    "papermill": {
     "duration": 12.342864,
     "end_time": "2024-04-07T04:41:22.424698",
     "exception": false,
     "start_time": "2024-04-07T04:41:10.081834",
     "status": "completed"
    },
    "tags": []
   },
   "outputs": [
    {
     "name": "stderr",
     "output_type": "stream",
     "text": [
      "2024-04-07 04:41:12.002329: E external/local_xla/xla/stream_executor/cuda/cuda_dnn.cc:9261] Unable to register cuDNN factory: Attempting to register factory for plugin cuDNN when one has already been registered\n",
      "2024-04-07 04:41:12.002458: E external/local_xla/xla/stream_executor/cuda/cuda_fft.cc:607] Unable to register cuFFT factory: Attempting to register factory for plugin cuFFT when one has already been registered\n",
      "2024-04-07 04:41:12.149413: E external/local_xla/xla/stream_executor/cuda/cuda_blas.cc:1515] Unable to register cuBLAS factory: Attempting to register factory for plugin cuBLAS when one has already been registered\n"
     ]
    }
   ],
   "source": [
    "from tensorflow.keras.preprocessing.image import ImageDataGenerator\n",
    "X_train = X_train.reshape(-1,28,28,1)\n"
   ]
  },
  {
   "cell_type": "code",
   "execution_count": 8,
   "id": "19fadbcc",
   "metadata": {
    "execution": {
     "iopub.execute_input": "2024-04-07T04:41:22.436786Z",
     "iopub.status.busy": "2024-04-07T04:41:22.436169Z",
     "iopub.status.idle": "2024-04-07T04:41:22.579363Z",
     "shell.execute_reply": "2024-04-07T04:41:22.578485Z"
    },
    "papermill": {
     "duration": 0.151829,
     "end_time": "2024-04-07T04:41:22.581797",
     "exception": false,
     "start_time": "2024-04-07T04:41:22.429968",
     "status": "completed"
    },
    "tags": []
   },
   "outputs": [],
   "source": [
    "datagen = ImageDataGenerator(\n",
    "         rotation_range = 15,\n",
    "         height_shift_range = 0.1,\n",
    "         zoom_range = 0.1,\n",
    "         shear_range=0.1\n",
    ")\n",
    "datagen.fit(X_train)"
   ]
  },
  {
   "cell_type": "code",
   "execution_count": 9,
   "id": "a88cb2c8",
   "metadata": {
    "execution": {
     "iopub.execute_input": "2024-04-07T04:41:22.593904Z",
     "iopub.status.busy": "2024-04-07T04:41:22.593113Z",
     "iopub.status.idle": "2024-04-07T04:41:22.597570Z",
     "shell.execute_reply": "2024-04-07T04:41:22.596614Z"
    },
    "papermill": {
     "duration": 0.012657,
     "end_time": "2024-04-07T04:41:22.599639",
     "exception": false,
     "start_time": "2024-04-07T04:41:22.586982",
     "status": "completed"
    },
    "tags": []
   },
   "outputs": [],
   "source": [
    "X_train = X_train.reshape(-1,784)"
   ]
  },
  {
   "cell_type": "code",
   "execution_count": 10,
   "id": "50f19a7c",
   "metadata": {
    "execution": {
     "iopub.execute_input": "2024-04-07T04:41:22.611910Z",
     "iopub.status.busy": "2024-04-07T04:41:22.611541Z",
     "iopub.status.idle": "2024-04-07T04:41:23.858865Z",
     "shell.execute_reply": "2024-04-07T04:41:23.857739Z"
    },
    "papermill": {
     "duration": 1.256288,
     "end_time": "2024-04-07T04:41:23.861308",
     "exception": false,
     "start_time": "2024-04-07T04:41:22.605020",
     "status": "completed"
    },
    "tags": []
   },
   "outputs": [],
   "source": [
    "from sklearn.neighbors import KNeighborsClassifier"
   ]
  },
  {
   "cell_type": "code",
   "execution_count": 11,
   "id": "ee1b4a90",
   "metadata": {
    "execution": {
     "iopub.execute_input": "2024-04-07T04:41:23.874043Z",
     "iopub.status.busy": "2024-04-07T04:41:23.873014Z",
     "iopub.status.idle": "2024-04-07T04:41:24.016540Z",
     "shell.execute_reply": "2024-04-07T04:41:24.015310Z"
    },
    "papermill": {
     "duration": 0.1522,
     "end_time": "2024-04-07T04:41:24.018854",
     "exception": false,
     "start_time": "2024-04-07T04:41:23.866654",
     "status": "completed"
    },
    "tags": []
   },
   "outputs": [
    {
     "data": {
      "text/html": [
       "<style>#sk-container-id-1 {color: black;background-color: white;}#sk-container-id-1 pre{padding: 0;}#sk-container-id-1 div.sk-toggleable {background-color: white;}#sk-container-id-1 label.sk-toggleable__label {cursor: pointer;display: block;width: 100%;margin-bottom: 0;padding: 0.3em;box-sizing: border-box;text-align: center;}#sk-container-id-1 label.sk-toggleable__label-arrow:before {content: \"▸\";float: left;margin-right: 0.25em;color: #696969;}#sk-container-id-1 label.sk-toggleable__label-arrow:hover:before {color: black;}#sk-container-id-1 div.sk-estimator:hover label.sk-toggleable__label-arrow:before {color: black;}#sk-container-id-1 div.sk-toggleable__content {max-height: 0;max-width: 0;overflow: hidden;text-align: left;background-color: #f0f8ff;}#sk-container-id-1 div.sk-toggleable__content pre {margin: 0.2em;color: black;border-radius: 0.25em;background-color: #f0f8ff;}#sk-container-id-1 input.sk-toggleable__control:checked~div.sk-toggleable__content {max-height: 200px;max-width: 100%;overflow: auto;}#sk-container-id-1 input.sk-toggleable__control:checked~label.sk-toggleable__label-arrow:before {content: \"▾\";}#sk-container-id-1 div.sk-estimator input.sk-toggleable__control:checked~label.sk-toggleable__label {background-color: #d4ebff;}#sk-container-id-1 div.sk-label input.sk-toggleable__control:checked~label.sk-toggleable__label {background-color: #d4ebff;}#sk-container-id-1 input.sk-hidden--visually {border: 0;clip: rect(1px 1px 1px 1px);clip: rect(1px, 1px, 1px, 1px);height: 1px;margin: -1px;overflow: hidden;padding: 0;position: absolute;width: 1px;}#sk-container-id-1 div.sk-estimator {font-family: monospace;background-color: #f0f8ff;border: 1px dotted black;border-radius: 0.25em;box-sizing: border-box;margin-bottom: 0.5em;}#sk-container-id-1 div.sk-estimator:hover {background-color: #d4ebff;}#sk-container-id-1 div.sk-parallel-item::after {content: \"\";width: 100%;border-bottom: 1px solid gray;flex-grow: 1;}#sk-container-id-1 div.sk-label:hover label.sk-toggleable__label {background-color: #d4ebff;}#sk-container-id-1 div.sk-serial::before {content: \"\";position: absolute;border-left: 1px solid gray;box-sizing: border-box;top: 0;bottom: 0;left: 50%;z-index: 0;}#sk-container-id-1 div.sk-serial {display: flex;flex-direction: column;align-items: center;background-color: white;padding-right: 0.2em;padding-left: 0.2em;position: relative;}#sk-container-id-1 div.sk-item {position: relative;z-index: 1;}#sk-container-id-1 div.sk-parallel {display: flex;align-items: stretch;justify-content: center;background-color: white;position: relative;}#sk-container-id-1 div.sk-item::before, #sk-container-id-1 div.sk-parallel-item::before {content: \"\";position: absolute;border-left: 1px solid gray;box-sizing: border-box;top: 0;bottom: 0;left: 50%;z-index: -1;}#sk-container-id-1 div.sk-parallel-item {display: flex;flex-direction: column;z-index: 1;position: relative;background-color: white;}#sk-container-id-1 div.sk-parallel-item:first-child::after {align-self: flex-end;width: 50%;}#sk-container-id-1 div.sk-parallel-item:last-child::after {align-self: flex-start;width: 50%;}#sk-container-id-1 div.sk-parallel-item:only-child::after {width: 0;}#sk-container-id-1 div.sk-dashed-wrapped {border: 1px dashed gray;margin: 0 0.4em 0.5em 0.4em;box-sizing: border-box;padding-bottom: 0.4em;background-color: white;}#sk-container-id-1 div.sk-label label {font-family: monospace;font-weight: bold;display: inline-block;line-height: 1.2em;}#sk-container-id-1 div.sk-label-container {text-align: center;}#sk-container-id-1 div.sk-container {/* jupyter's `normalize.less` sets `[hidden] { display: none; }` but bootstrap.min.css set `[hidden] { display: none !important; }` so we also need the `!important` here to be able to override the default hidden behavior on the sphinx rendered scikit-learn.org. See: https://github.com/scikit-learn/scikit-learn/issues/21755 */display: inline-block !important;position: relative;}#sk-container-id-1 div.sk-text-repr-fallback {display: none;}</style><div id=\"sk-container-id-1\" class=\"sk-top-container\"><div class=\"sk-text-repr-fallback\"><pre>KNeighborsClassifier()</pre><b>In a Jupyter environment, please rerun this cell to show the HTML representation or trust the notebook. <br />On GitHub, the HTML representation is unable to render, please try loading this page with nbviewer.org.</b></div><div class=\"sk-container\" hidden><div class=\"sk-item\"><div class=\"sk-estimator sk-toggleable\"><input class=\"sk-toggleable__control sk-hidden--visually\" id=\"sk-estimator-id-1\" type=\"checkbox\" checked><label for=\"sk-estimator-id-1\" class=\"sk-toggleable__label sk-toggleable__label-arrow\">KNeighborsClassifier</label><div class=\"sk-toggleable__content\"><pre>KNeighborsClassifier()</pre></div></div></div></div></div>"
      ],
      "text/plain": [
       "KNeighborsClassifier()"
      ]
     },
     "execution_count": 11,
     "metadata": {},
     "output_type": "execute_result"
    }
   ],
   "source": [
    "knn = KNeighborsClassifier(n_neighbors=5)\n",
    "knn.fit(X_train,Y_train)"
   ]
  },
  {
   "cell_type": "code",
   "execution_count": 12,
   "id": "d29007c4",
   "metadata": {
    "execution": {
     "iopub.execute_input": "2024-04-07T04:41:24.032610Z",
     "iopub.status.busy": "2024-04-07T04:41:24.031639Z",
     "iopub.status.idle": "2024-04-07T04:41:24.223365Z",
     "shell.execute_reply": "2024-04-07T04:41:24.222255Z"
    },
    "papermill": {
     "duration": 0.202094,
     "end_time": "2024-04-07T04:41:24.226355",
     "exception": false,
     "start_time": "2024-04-07T04:41:24.024261",
     "status": "completed"
    },
    "tags": []
   },
   "outputs": [
    {
     "data": {
      "text/plain": [
       "9"
      ]
     },
     "execution_count": 12,
     "metadata": {},
     "output_type": "execute_result"
    }
   ],
   "source": [
    "int(knn.predict(X_test[101].reshape(1,-1)))\n"
   ]
  },
  {
   "cell_type": "code",
   "execution_count": 13,
   "id": "7e76cdea",
   "metadata": {
    "execution": {
     "iopub.execute_input": "2024-04-07T04:41:24.246247Z",
     "iopub.status.busy": "2024-04-07T04:41:24.245734Z",
     "iopub.status.idle": "2024-04-07T04:41:24.475489Z",
     "shell.execute_reply": "2024-04-07T04:41:24.474514Z"
    },
    "papermill": {
     "duration": 0.242515,
     "end_time": "2024-04-07T04:41:24.477838",
     "exception": false,
     "start_time": "2024-04-07T04:41:24.235323",
     "status": "completed"
    },
    "tags": []
   },
   "outputs": [
    {
     "data": {
      "image/png": "[encoded data removed]",
      "text/plain": [
       "<Figure size 640x480 with 1 Axes>"
      ]
     },
     "metadata": {},
     "output_type": "display_data"
    }
   ],
   "source": [
    "num = np.array(test_data.iloc[101,:]).reshape(28,28)\n",
    "plt.imshow(num)\n",
    "plt.show()"
   ]
  },
  {
   "cell_type": "code",
   "execution_count": null,
   "id": "21831dbf",
   "metadata": {
    "papermill": {
     "duration": 0.005619,
     "end_time": "2024-04-07T04:41:24.489466",
     "exception": false,
     "start_time": "2024-04-07T04:41:24.483847",
     "status": "completed"
    },
    "tags": []
   },
   "outputs": [],
   "source": []
  }
 ],
 "metadata": {
  "kaggle": {
   "accelerator": "none",
   "dataSources": [
    {
     "databundleVersionId": 861823,
     "sourceId": 3004,
     "sourceType": "competition"
    }
   ],
   "dockerImageVersionId": 30673,
   "isGpuEnabled": false,
   "isInternetEnabled": false,
   "language": "python",
   "sourceType": "notebook"
  },
  "kernelspec": {
   "display_name": "Python 3",
   "language": "python",
   "name": "python3"
  },
  "language_info": {
   "codemirror_mode": {
    "name": "ipython",
    "version": 3
   },
   "file_extension": ".py",
   "mimetype": "text/x-python",
   "name": "python",
   "nbconvert_exporter": "python",
   "pygments_lexer": "ipython3",
   "version": "3.10.13"
  },
  "papermill": {
   "default_parameters": {},
   "duration": 26.027193,
   "end_time": "2024-04-07T04:41:26.770530",
   "environment_variables": {},
   "exception": null,
   "input_path": "__notebook__.ipynb",
   "output_path": "__notebook__.ipynb",
   "parameters": {},
   "start_time": "2024-04-07T04:41:00.743337",
   "version": "2.5.0"
  }
 },
 "nbformat": 4,
 "nbformat_minor": 5
}
